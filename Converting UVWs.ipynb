{
 "metadata": {
  "name": "Converting UVWs"
 }, 
 "nbformat": 2, 
 "worksheets": [
  {
   "cells": [
    {
     "cell_type": "code", 
     "collapsed": false, 
     "input": [
      "tab=table('3C147-CD-LO.MS/SUBMSS/3C147-D-LO.MS/',readonly=False)"
     ], 
     "language": "python", 
     "outputs": [
      {
       "output_type": "stream", 
       "stream": "stdout", 
       "text": [
        "Successful read/write open of default-locked table 3C147-CD-LO.MS/SUBMSS/3C147-D-LO.MS/: 28 columns, 811146 rows"
       ]
      }
     ], 
     "prompt_number": 2
    }, 
    {
     "cell_type": "code", 
     "collapsed": true, 
     "input": [
      "import pyrap.measures", 
      "dm = pyrap.measures.measures()", 
      "from pyrap.measures import dq"
     ], 
     "language": "python", 
     "outputs": [], 
     "prompt_number": 4
    }, 
    {
     "cell_type": "code", 
     "collapsed": false, 
     "input": [
      "ra,dec = table(tab.getkeyword(\"FIELD\")).getcol(\"PHASE_DIR\")[0].flat", 
      "dir0 = dm.direction(\"j2000\",str(ra)+\"rad\",str(dec)+\"rad\")", 
      "dir0"
     ], 
     "language": "python", 
     "outputs": [
      {
       "output_type": "stream", 
       "stream": "stdout", 
       "text": [
        "Successful readonly open of default-locked table /home/oms/Waterhole/RP-3C147/3C147-CD-LO.MS/SUBMSS/3C147-D-LO.MS/FIELD: 9 columns, 1 rows"
       ]
      }, 
      {
       "output_type": "pyout", 
       "prompt_number": 21, 
       "text": [
        "{'m0': {'unit': 'rad', 'value': 1.4948845339},", 
        " 'm1': {'unit': 'rad', 'value': 0.8700817014000001},", 
        " 'refer': 'J2000',", 
        " 'type': 'direction'}"
       ]
      }
     ], 
     "prompt_number": 21
    }, 
    {
     "cell_type": "code", 
     "collapsed": false, 
     "input": [
      "tm = tab.getcol(\"TIME\")", 
      "a1,a2 = tab.getcol(\"ANTENNA1\"),tab.getcol(\"ANTENNA2\")", 
      "xyz = table(tab.getkeyword(\"ANTENNA\")).getcol(\"POSITION\")"
     ], 
     "language": "python", 
     "outputs": [
      {
       "output_type": "stream", 
       "stream": "stdout", 
       "text": [
        "Successful readonly open of default-locked table /home/oms/Waterhole/RP-3C147/3C147-CD-LO.MS/SUBMSS/3C147-D-LO.MS/ANTENNA: 8 columns, 28 rows"
       ]
      }
     ], 
     "prompt_number": 8
    }, 
    {
     "cell_type": "code", 
     "collapsed": true, 
     "input": [
      "dm.to_uvw?"
     ], 
     "language": "python", 
     "outputs": [], 
     "prompt_number": 30
    }, 
    {
     "cell_type": "code", 
     "collapsed": true, 
     "input": [
      "dm.baseline?"
     ], 
     "language": "python", 
     "outputs": [], 
     "prompt_number": 26
    }, 
    {
     "cell_type": "code", 
     "collapsed": true, 
     "input": [
      "uvw = tab.getcol(\"UVW\")"
     ], 
     "language": "python", 
     "outputs": [], 
     "prompt_number": 11
    }, 
    {
     "cell_type": "code", 
     "collapsed": false, 
     "input": [
      "uvw[0]"
     ], 
     "language": "python", 
     "outputs": [
      {
       "output_type": "pyout", 
       "prompt_number": 12, 
       "text": [
        "array([-84.76624761,  44.51694547, -71.22367743])"
       ]
      }
     ], 
     "prompt_number": 12
    }, 
    {
     "cell_type": "code", 
     "collapsed": false, 
     "input": [
      "a1[0],a2[0]"
     ], 
     "language": "python", 
     "outputs": [
      {
       "output_type": "pyout", 
       "prompt_number": 14, 
       "text": [
        "(25, 26)"
       ]
      }
     ], 
     "prompt_number": 14
    }, 
    {
     "cell_type": "code", 
     "collapsed": false, 
     "input": [
      "dm.do_frame(dir0)", 
      "dm.doframe(dm.epoch(str(tm[0])+\"sec\"))", 
      "dm.doframe(dm.observatory('vla'))", 
      "bl = dm.baseline('itrf',*[str(x)+\"m\" for x in xyz[25]-xyz[26]])"
     ], 
     "language": "python", 
     "outputs": [], 
     "prompt_number": 34
    }, 
    {
     "cell_type": "code", 
     "collapsed": false, 
     "input": [
      "print dm.to_uvw(bl)"
     ], 
     "language": "python", 
     "outputs": [
      {
       "output_type": "stream", 
       "stream": "stdout", 
       "text": [
        "None"
       ]
      }
     ], 
     "prompt_number": 36
    }, 
    {
     "cell_type": "code", 
     "collapsed": true, 
     "input": [], 
     "language": "python", 
     "outputs": []
    }
   ]
  }
 ]
}