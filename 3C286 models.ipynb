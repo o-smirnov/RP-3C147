{
 "metadata": {
  "name": "3C286 models"
 }, 
 "nbformat": 2, 
 "worksheets": [
  {
   "cells": [
    {
     "cell_type": "code", 
     "collapsed": false, 
     "input": [
      "cd ~/RP-3C286"
     ], 
     "language": "python", 
     "outputs": [
      {
       "output_type": "stream", 
       "stream": "stdout", 
       "text": [
        "/home/oms/RP-3C286"
       ]
      }
     ], 
     "prompt_number": 17
    }, 
    {
     "cell_type": "code", 
     "collapsed": false, 
     "input": [
      "ff=pyfits.open('3C286_X.MODEL.fits')", 
      "hdr = ff[0].header", 
      "data = ff[0].data", 
      "ds = list(ff[0].data.shape)", 
      "ds[0] = 4", 
      "poldata = numpy.zeros(ds,data.dtype)", 
      "poldata[0,...] = data", 
      "pf = .12", 
      "pa = 33*math.pi/180;", 
      "qf = pf*math.cos(2*pa)", 
      "uf = pf*math.sin(2*pa)", 
      "print qf,uf", 
      "poldata[1,...] = data*qf", 
      "poldata[2,...] = data*uf", 
      "hdu = pyfits.PrimaryHDU(poldata);", 
      "for key,value in hdr.items():", 
      "    if key != \"NAXIS4\":", 
      "        hdu.header.update(key,value);", 
      "hdu.writeto('3C286_X.pol.fits',clobber=True)"
     ], 
     "language": "python", 
     "outputs": [
      {
       "output_type": "stream", 
       "stream": "stdout", 
       "text": [
        "0.0488083971691 0.109625454917", 
        "Overwrite existing file '3C286_X.pol.fits'."
       ]
      }
     ], 
     "prompt_number": 21
    }, 
    {
     "cell_type": "code", 
     "collapsed": false, 
     "input": [], 
     "language": "python", 
     "outputs": [], 
     "prompt_number": 21
    }, 
    {
     "cell_type": "code", 
     "collapsed": true, 
     "input": [], 
     "language": "python", 
     "outputs": [], 
     "prompt_number": 18
    }
   ]
  }
 ]
}