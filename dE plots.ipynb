{
 "metadata": {
  "name": "dE plots"
 }, 
 "nbformat": 2, 
 "worksheets": [
  {
   "cells": [
    {
     "cell_type": "code", 
     "collapsed": false, 
     "input": [
      "import cPickle", 
      "prefix = \"dE-D-LO\";", 
      "filename='plots-jointcal-LO-GdB-36x32-4polifr/plots-3C147-D-LO-spw0/3C147-D-LO-spw0-s5.diffgain-spw0.cp'", 
      "DG0 = cPickle.load(file(filename))"
     ], 
     "language": "python", 
     "outputs": [], 
     "prompt_number": 6
    }, 
    {
     "cell_type": "code", 
     "collapsed": false, 
     "input": [
      "DG = DG0['gains']", 
      "srcnames = sorted(DG.keys())"
     ], 
     "language": "python", 
     "outputs": [], 
     "prompt_number": 7
    }, 
    {
     "cell_type": "code", 
     "collapsed": false, 
     "input": [
      "ncols = len(srcnames)", 
      "antennas = sorted(DG[srcnames[0]]['solutions'].keys(),lambda a,b:cmp(int(a),int(b)));", 
      "for ant in antennas:", 
      "  figure(figsize=(5*ncols,3*8))", 
      "  for i,src in enumerate(sorted(srcnames)):", 
      "    sols = DG[src]['solutions'][ant]", 
      "    for j,xx in enumerate((\"RR\",\"RL\",\"LR\",\"LL\")):", 
      "      if not hasattr(sols[j],'shape'):", 
      "        continue;", 
      "      ntime,nfreq = sols[j].shape;", 
      "      subplot(8,ncols,j*2*ncols+i+1)", 
      "      if nfreq>1:", 
      "        x = range(ntime);", 
      "        fill_between(x,abs(sols[j][:,0]),abs(sols[j][:,-1]),color='grey')", 
      "        plot(abs(sols[j][:,nfreq/2]))", 
      "      else:", 
      "        plot(abs(sols[j][:,0]))", 
      "      title(\"%s:%s:%s:ampl\"%(src,ant,xx));", 
      "      xticks([]);", 
      "      xlim(0,ntime-1)", 
      "      subplot(8,ncols,(j*2+1)*ncols+i+1)", 
      "      ph = numpy.angle(sols[j])*180/math.pi;", 
      "      if nfreq>1:", 
      "        plot(ph[:,0],'.',ms=0.5,mec='0.2')", 
      "        plot(ph[:,-1],'.',ms=0.5,mec='0.2')", 
      "        plot(ph[:,nfreq/2],'.b',ms=0.5)", 
      "      else:", 
      "        plot(ph[:,0],'.',ms=0.5)", 
      "      title(\"%s:%s:%s:phase (deg)\"%(src,ant,xx));", 
      "      xticks([]);", 
      "      xlim(0,ntime-1)", 
      "  savefig(\"%s-ant-%s.png\"%(prefix,ant),dpi=150);"
     ], 
     "language": "python", 
     "outputs": [
      {
       "ename": "AttributeError", 
       "evalue": "'int' object has no attribute 'shape'", 
       "output_type": "pyerr", 
       "traceback": [
        "\u001b[0;31m---------------------------------------------------------------------------\u001b[0m\n\u001b[0;31mAttributeError\u001b[0m                            Traceback (most recent call last)", 
        "\u001b[0;32m/home/oms/Waterhole/RP-3C147/<ipython-input-8-0e5414e2b898>\u001b[0m in \u001b[0;36m<module>\u001b[0;34m()\u001b[0m\n\u001b[1;32m      6\u001b[0m     \u001b[0msols\u001b[0m \u001b[0;34m=\u001b[0m \u001b[0mDG\u001b[0m\u001b[0;34m[\u001b[0m\u001b[0msrc\u001b[0m\u001b[0;34m]\u001b[0m\u001b[0;34m[\u001b[0m\u001b[0;34m'solutions'\u001b[0m\u001b[0;34m]\u001b[0m\u001b[0;34m[\u001b[0m\u001b[0mant\u001b[0m\u001b[0;34m]\u001b[0m\u001b[0;34m\u001b[0m\u001b[0m\n\u001b[1;32m      7\u001b[0m     \u001b[0;32mfor\u001b[0m \u001b[0mj\u001b[0m\u001b[0;34m,\u001b[0m\u001b[0mxx\u001b[0m \u001b[0;32min\u001b[0m \u001b[0menumerate\u001b[0m\u001b[0;34m(\u001b[0m\u001b[0;34m(\u001b[0m\u001b[0;34m\"RR\"\u001b[0m\u001b[0;34m,\u001b[0m\u001b[0;34m\"RL\"\u001b[0m\u001b[0;34m,\u001b[0m\u001b[0;34m\"LR\"\u001b[0m\u001b[0;34m,\u001b[0m\u001b[0;34m\"LL\"\u001b[0m\u001b[0;34m)\u001b[0m\u001b[0;34m)\u001b[0m\u001b[0;34m:\u001b[0m\u001b[0;34m\u001b[0m\u001b[0m\n\u001b[0;32m----> 8\u001b[0;31m       \u001b[0mntime\u001b[0m\u001b[0;34m,\u001b[0m\u001b[0mnfreq\u001b[0m \u001b[0;34m=\u001b[0m \u001b[0msols\u001b[0m\u001b[0;34m[\u001b[0m\u001b[0mj\u001b[0m\u001b[0;34m]\u001b[0m\u001b[0;34m.\u001b[0m\u001b[0mshape\u001b[0m\u001b[0;34m;\u001b[0m\u001b[0;34m\u001b[0m\u001b[0m\n\u001b[0m\u001b[1;32m      9\u001b[0m       \u001b[0msubplot\u001b[0m\u001b[0;34m(\u001b[0m\u001b[0;36m8\u001b[0m\u001b[0;34m,\u001b[0m\u001b[0mncols\u001b[0m\u001b[0;34m,\u001b[0m\u001b[0mj\u001b[0m\u001b[0;34m*\u001b[0m\u001b[0;36m2\u001b[0m\u001b[0;34m*\u001b[0m\u001b[0mncols\u001b[0m\u001b[0;34m+\u001b[0m\u001b[0mi\u001b[0m\u001b[0;34m+\u001b[0m\u001b[0;36m1\u001b[0m\u001b[0;34m)\u001b[0m\u001b[0;34m\u001b[0m\u001b[0m\n\u001b[1;32m     10\u001b[0m       \u001b[0;32mif\u001b[0m \u001b[0mnfreq\u001b[0m\u001b[0;34m>\u001b[0m\u001b[0;36m1\u001b[0m\u001b[0;34m:\u001b[0m\u001b[0;34m\u001b[0m\u001b[0m\n", 
        "\u001b[0;31mAttributeError\u001b[0m: 'int' object has no attribute 'shape'"
       ]
      }, 
      {
       "output_type": "display_data", 
       "png": "[encoded data removed]"
      }
     ], 
     "prompt_number": 8
    }, 
    {
     "cell_type": "code", 
     "collapsed": false, 
     "input": [
      "ncols = len(srcnames)", 
      "nrows = len(antennas)", 
      "figure(figsize=(5*ncols,3*nrows));", 
      "for row,ant in enumerate(antennas):", 
      "  for isrc,src in enumerate(sorted(srcnames)):", 
      "    sols = DG[src]['solutions'][ant][0]", 
      "    subplot(nrows,ncols,row*ncols+isrc+1)", 
      "    ntime,nfreq = sols.shape;", 
      "    if nfreq>1:", 
      "      x = range(ntime);", 
      "      fill_between(x,abs(sols[:,0]),abs(sols[:,-1]),color='grey')", 
      "      plot(abs(sols[:,nfreq/2]))", 
      "    else:", 
      "      plot(abs(sols[:,0]))", 
      "    title(\"%s:%s:%s:ampl\"%(src,ant,\"RR\"));", 
      "    xticks([]);", 
      "    xlim(0,ntime-1)", 
      "  savefig(\"%s-ampl-summary.png\"%prefix,dpi=150);"
     ], 
     "language": "python", 
     "outputs": []
    }, 
    {
     "cell_type": "code", 
     "collapsed": true, 
     "input": [], 
     "language": "python", 
     "outputs": []
    }
   ]
  }
 ]
}