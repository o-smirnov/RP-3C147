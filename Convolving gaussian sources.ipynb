{
 "metadata": {
  "name": "Convolving gaussian sources"
 }, 
 "nbformat": 2, 
 "worksheets": [
  {
   "cells": [
    {
     "cell_type": "markdown", 
     "source": [
      "<H1>Figuring out how to convolve a Gaussian source with the beam</H1>"
     ]
    }, 
    {
     "cell_type": "code", 
     "collapsed": false, 
     "input": [
      "FWHM = sqrt(log(256))", 
      "DEG  = pi/180", 
      "ARCSEC = DEG/3600"
     ], 
     "language": "python", 
     "outputs": [], 
     "prompt_number": 146
    }, 
    {
     "cell_type": "code", 
     "collapsed": true, 
     "input": [
      "def convolveGaussian (x1,y1,p1,x2,y2,p2):", 
      "    \"\"\"convolves a Gaussian with FWHMs x1, y1 and position angle p1", 
      "    with a Gaussian given by x2,y2,p2, and returns its new shape.\"\"\"", 
      "    # convert to Fourier plane extents", 
      "    # FT transforms a -> pi^2/a", 
      "    u1,v1,u2,v2 = [ (math.pi**2)*2*a**2 for a in x1,y1,x2,y2 ];", 
      "    print \"uv coeffs\",u1,v1,u2,v2;", 
      "    c1,s1 = math.cos(p1),math.sin(p1);", 
      "    c2,s2 = math.cos(p2),math.sin(p2);", 
      "    # in the FT, this is a product of two Gaussians, each of the form:", 
      "    #   exp(-( u*(cx+sy)^2 + v*(cx-sy)^2))", 
      "    # note how we rotate BACK through the position angle", 
      "    # The product is necessarily a Gaussian itself, of the form", 
      "    #   exp(-(a.u^2+2b.u.v+c.v^2))", 
      "    # So we just need to collect the rotated Gaussian coefficients into a, b and c", 
      "    a = u1*c1**2+v1*s1**2+u2*c2**2+v2*s2**2", 
      "    c = u1*s1**2+v1*c1**2+u2*s2**2+v2*c2**2", 
      "    b = c1*s1*(u1-v1)+c2*s2*(u2-v2)", 
      "    print \"a,b,c\",a,b,c;", 
      "    # ok, find semi-major axes a1, b1 using the formula from http://mathworld.wolfram.com/Ellipse.html eq. 21-22", 
      "    # to go from a general quadratic curve (with a,b,c given above, d=f=0, g=-1) to semi-axes a',b'", 
      "    D = math.sqrt((a-c)**2+4*b**2)", 
      "    E = a+c", 
      "    a1 = math.sqrt(2/(E-D))", 
      "    b1 = math.sqrt(2/(E+D))", 
      "    print \"a',b'\",a1,b1,\"coeffs\",1/(a1**2),1/(b1**2)", 
      "    # and derive rotation angle", 
      "    if b:", 
      "        p1 = math.atan2(2*b,a-c)/2", 
      "#        if a > c:", 
      "        p1 += math.pi/2", 
      "    else:", 
      "        p1 = 0 if a <= c else math.pi/2", 
      "    print \"rotation\",p1/DEG", 
      "    # ok, convert a1,b1 from uv-plane to image plane ", 
      "    x1 = math.sqrt(1/(2*math.pi**2*a1**2))", 
      "    y1 = math.sqrt(1/(2*math.pi**2*b1**2))", 
      "    # note that because of reciprocality, y1 becomes the major axis and x1 the minor axis, so adjust for that", 
      "    return y1,x1,(p1-math.pi/2)%math.pi;"
     ], 
     "language": "python", 
     "outputs": [], 
     "prompt_number": 147
    }, 
    {
     "cell_type": "code", 
     "collapsed": false, 
     "input": [
      "a,b,c = convolveGaussian(2,1,90*DEG,1,1,(53)*DEG)", 
      "print a,b,c/DEG", 
      "#a,b,c = convolveGaussian(14,6,68*DEG,44,36,53*DEG)", 
      "#print a,b,c/DEG", 
      "#a,b,c = convolveGaussian(1,1,0,1,1,0*DEG)", 
      "#print a,b,c/DEG"
     ], 
     "language": "python", 
     "outputs": [
      {
       "output_type": "stream", 
       "stream": "stdout", 
       "text": [
        "uv coeffs 78.9568352087 19.7392088022 19.7392088022 19.7392088022", 
        "a,b,c 39.4784176044 3.62603383159e-15 98.6960440109", 
        "a',b' 0.159154943092 0.100658424209 coeffs 39.4784176044 98.6960440109", 
        "rotation 180.0", 
        "2.2360679775 1.41421356237 90.0"
       ]
      }
     ], 
     "prompt_number": 150
    }, 
    {
     "cell_type": "code", 
     "collapsed": true, 
     "input": [], 
     "language": "python", 
     "outputs": [], 
     "prompt_number": 148
    }
   ]
  }
 ]
}